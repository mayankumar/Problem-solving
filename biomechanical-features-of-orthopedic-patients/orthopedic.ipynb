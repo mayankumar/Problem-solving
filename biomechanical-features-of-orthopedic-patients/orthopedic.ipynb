{
 "cells": [
  {
   "cell_type": "code",
   "execution_count": 1,
   "metadata": {},
   "outputs": [
    {
     "name": "stdout",
     "output_type": "stream",
     "text": [
      "Using matplotlib backend: Qt5Agg\n",
      "Populating the interactive namespace from numpy and matplotlib\n"
     ]
    }
   ],
   "source": [
    "% pylab\n",
    "import pandas as pd"
   ]
  },
  {
   "cell_type": "code",
   "execution_count": 19,
   "metadata": {},
   "outputs": [],
   "source": [
    "data = pd.read_csv('column_3C_weka.csv')"
   ]
  },
  {
   "cell_type": "code",
   "execution_count": 3,
   "metadata": {},
   "outputs": [
    {
     "data": {
      "text/html": [
       "<div>\n",
       "<style scoped>\n",
       "    .dataframe tbody tr th:only-of-type {\n",
       "        vertical-align: middle;\n",
       "    }\n",
       "\n",
       "    .dataframe tbody tr th {\n",
       "        vertical-align: top;\n",
       "    }\n",
       "\n",
       "    .dataframe thead th {\n",
       "        text-align: right;\n",
       "    }\n",
       "</style>\n",
       "<table border=\"1\" class=\"dataframe\">\n",
       "  <thead>\n",
       "    <tr style=\"text-align: right;\">\n",
       "      <th></th>\n",
       "      <th>pelvic_incidence</th>\n",
       "      <th>pelvic_tilt</th>\n",
       "      <th>lumbar_lordosis_angle</th>\n",
       "      <th>sacral_slope</th>\n",
       "      <th>pelvic_radius</th>\n",
       "      <th>degree_spondylolisthesis</th>\n",
       "      <th>class</th>\n",
       "    </tr>\n",
       "  </thead>\n",
       "  <tbody>\n",
       "    <tr>\n",
       "      <th>0</th>\n",
       "      <td>63.027818</td>\n",
       "      <td>22.552586</td>\n",
       "      <td>39.609117</td>\n",
       "      <td>40.475232</td>\n",
       "      <td>98.672917</td>\n",
       "      <td>-0.254400</td>\n",
       "      <td>Hernia</td>\n",
       "    </tr>\n",
       "    <tr>\n",
       "      <th>1</th>\n",
       "      <td>39.056951</td>\n",
       "      <td>10.060991</td>\n",
       "      <td>25.015378</td>\n",
       "      <td>28.995960</td>\n",
       "      <td>114.405425</td>\n",
       "      <td>4.564259</td>\n",
       "      <td>Hernia</td>\n",
       "    </tr>\n",
       "    <tr>\n",
       "      <th>2</th>\n",
       "      <td>68.832021</td>\n",
       "      <td>22.218482</td>\n",
       "      <td>50.092194</td>\n",
       "      <td>46.613539</td>\n",
       "      <td>105.985135</td>\n",
       "      <td>-3.530317</td>\n",
       "      <td>Hernia</td>\n",
       "    </tr>\n",
       "    <tr>\n",
       "      <th>3</th>\n",
       "      <td>69.297008</td>\n",
       "      <td>24.652878</td>\n",
       "      <td>44.311238</td>\n",
       "      <td>44.644130</td>\n",
       "      <td>101.868495</td>\n",
       "      <td>11.211523</td>\n",
       "      <td>Hernia</td>\n",
       "    </tr>\n",
       "    <tr>\n",
       "      <th>4</th>\n",
       "      <td>49.712859</td>\n",
       "      <td>9.652075</td>\n",
       "      <td>28.317406</td>\n",
       "      <td>40.060784</td>\n",
       "      <td>108.168725</td>\n",
       "      <td>7.918501</td>\n",
       "      <td>Hernia</td>\n",
       "    </tr>\n",
       "  </tbody>\n",
       "</table>\n",
       "</div>"
      ],
      "text/plain": [
       "   pelvic_incidence  pelvic_tilt  lumbar_lordosis_angle  sacral_slope  \\\n",
       "0         63.027818    22.552586              39.609117     40.475232   \n",
       "1         39.056951    10.060991              25.015378     28.995960   \n",
       "2         68.832021    22.218482              50.092194     46.613539   \n",
       "3         69.297008    24.652878              44.311238     44.644130   \n",
       "4         49.712859     9.652075              28.317406     40.060784   \n",
       "\n",
       "   pelvic_radius  degree_spondylolisthesis   class  \n",
       "0      98.672917                 -0.254400  Hernia  \n",
       "1     114.405425                  4.564259  Hernia  \n",
       "2     105.985135                 -3.530317  Hernia  \n",
       "3     101.868495                 11.211523  Hernia  \n",
       "4     108.168725                  7.918501  Hernia  "
      ]
     },
     "execution_count": 3,
     "metadata": {},
     "output_type": "execute_result"
    }
   ],
   "source": [
    "data.head()"
   ]
  },
  {
   "cell_type": "code",
   "execution_count": 4,
   "metadata": {},
   "outputs": [
    {
     "data": {
      "text/html": [
       "<div>\n",
       "<style scoped>\n",
       "    .dataframe tbody tr th:only-of-type {\n",
       "        vertical-align: middle;\n",
       "    }\n",
       "\n",
       "    .dataframe tbody tr th {\n",
       "        vertical-align: top;\n",
       "    }\n",
       "\n",
       "    .dataframe thead th {\n",
       "        text-align: right;\n",
       "    }\n",
       "</style>\n",
       "<table border=\"1\" class=\"dataframe\">\n",
       "  <thead>\n",
       "    <tr style=\"text-align: right;\">\n",
       "      <th></th>\n",
       "      <th>pelvic_incidence</th>\n",
       "      <th>pelvic_tilt</th>\n",
       "      <th>lumbar_lordosis_angle</th>\n",
       "      <th>sacral_slope</th>\n",
       "      <th>pelvic_radius</th>\n",
       "      <th>degree_spondylolisthesis</th>\n",
       "    </tr>\n",
       "  </thead>\n",
       "  <tbody>\n",
       "    <tr>\n",
       "      <th>count</th>\n",
       "      <td>310.000000</td>\n",
       "      <td>310.000000</td>\n",
       "      <td>310.000000</td>\n",
       "      <td>310.000000</td>\n",
       "      <td>310.000000</td>\n",
       "      <td>310.000000</td>\n",
       "    </tr>\n",
       "    <tr>\n",
       "      <th>mean</th>\n",
       "      <td>60.496653</td>\n",
       "      <td>17.542822</td>\n",
       "      <td>51.930930</td>\n",
       "      <td>42.953831</td>\n",
       "      <td>117.920655</td>\n",
       "      <td>26.296694</td>\n",
       "    </tr>\n",
       "    <tr>\n",
       "      <th>std</th>\n",
       "      <td>17.236520</td>\n",
       "      <td>10.008330</td>\n",
       "      <td>18.554064</td>\n",
       "      <td>13.423102</td>\n",
       "      <td>13.317377</td>\n",
       "      <td>37.559027</td>\n",
       "    </tr>\n",
       "    <tr>\n",
       "      <th>min</th>\n",
       "      <td>26.147921</td>\n",
       "      <td>-6.554948</td>\n",
       "      <td>14.000000</td>\n",
       "      <td>13.366931</td>\n",
       "      <td>70.082575</td>\n",
       "      <td>-11.058179</td>\n",
       "    </tr>\n",
       "    <tr>\n",
       "      <th>25%</th>\n",
       "      <td>46.430294</td>\n",
       "      <td>10.667069</td>\n",
       "      <td>37.000000</td>\n",
       "      <td>33.347122</td>\n",
       "      <td>110.709196</td>\n",
       "      <td>1.603727</td>\n",
       "    </tr>\n",
       "    <tr>\n",
       "      <th>50%</th>\n",
       "      <td>58.691038</td>\n",
       "      <td>16.357689</td>\n",
       "      <td>49.562398</td>\n",
       "      <td>42.404912</td>\n",
       "      <td>118.268178</td>\n",
       "      <td>11.767934</td>\n",
       "    </tr>\n",
       "    <tr>\n",
       "      <th>75%</th>\n",
       "      <td>72.877696</td>\n",
       "      <td>22.120395</td>\n",
       "      <td>63.000000</td>\n",
       "      <td>52.695888</td>\n",
       "      <td>125.467674</td>\n",
       "      <td>41.287352</td>\n",
       "    </tr>\n",
       "    <tr>\n",
       "      <th>max</th>\n",
       "      <td>129.834041</td>\n",
       "      <td>49.431864</td>\n",
       "      <td>125.742385</td>\n",
       "      <td>121.429566</td>\n",
       "      <td>163.071041</td>\n",
       "      <td>418.543082</td>\n",
       "    </tr>\n",
       "  </tbody>\n",
       "</table>\n",
       "</div>"
      ],
      "text/plain": [
       "       pelvic_incidence  pelvic_tilt  lumbar_lordosis_angle  sacral_slope  \\\n",
       "count        310.000000   310.000000             310.000000    310.000000   \n",
       "mean          60.496653    17.542822              51.930930     42.953831   \n",
       "std           17.236520    10.008330              18.554064     13.423102   \n",
       "min           26.147921    -6.554948              14.000000     13.366931   \n",
       "25%           46.430294    10.667069              37.000000     33.347122   \n",
       "50%           58.691038    16.357689              49.562398     42.404912   \n",
       "75%           72.877696    22.120395              63.000000     52.695888   \n",
       "max          129.834041    49.431864             125.742385    121.429566   \n",
       "\n",
       "       pelvic_radius  degree_spondylolisthesis  \n",
       "count     310.000000                310.000000  \n",
       "mean      117.920655                 26.296694  \n",
       "std        13.317377                 37.559027  \n",
       "min        70.082575                -11.058179  \n",
       "25%       110.709196                  1.603727  \n",
       "50%       118.268178                 11.767934  \n",
       "75%       125.467674                 41.287352  \n",
       "max       163.071041                418.543082  "
      ]
     },
     "execution_count": 4,
     "metadata": {},
     "output_type": "execute_result"
    }
   ],
   "source": [
    "data.describe()"
   ]
  },
  {
   "cell_type": "code",
   "execution_count": 5,
   "metadata": {},
   "outputs": [
    {
     "data": {
      "text/plain": [
       "(310, 7)"
      ]
     },
     "execution_count": 5,
     "metadata": {},
     "output_type": "execute_result"
    }
   ],
   "source": [
    "data.shape"
   ]
  },
  {
   "cell_type": "code",
   "execution_count": 6,
   "metadata": {},
   "outputs": [
    {
     "data": {
      "text/plain": [
       "Index(['pelvic_incidence', 'pelvic_tilt', 'lumbar_lordosis_angle',\n",
       "       'sacral_slope', 'pelvic_radius', 'degree_spondylolisthesis', 'class'],\n",
       "      dtype='object')"
      ]
     },
     "execution_count": 6,
     "metadata": {},
     "output_type": "execute_result"
    }
   ],
   "source": [
    "data.columns"
   ]
  },
  {
   "cell_type": "code",
   "execution_count": 7,
   "metadata": {},
   "outputs": [
    {
     "data": {
      "text/plain": [
       "pelvic_incidence            0\n",
       "pelvic_tilt                 0\n",
       "lumbar_lordosis_angle       0\n",
       "sacral_slope                0\n",
       "pelvic_radius               0\n",
       "degree_spondylolisthesis    0\n",
       "class                       0\n",
       "dtype: int64"
      ]
     },
     "execution_count": 7,
     "metadata": {},
     "output_type": "execute_result"
    }
   ],
   "source": [
    "data.isnull().sum()"
   ]
  },
  {
   "cell_type": "code",
   "execution_count": 8,
   "metadata": {},
   "outputs": [],
   "source": [
    "%matplotlib inline"
   ]
  },
  {
   "cell_type": "code",
   "execution_count": 9,
   "metadata": {},
   "outputs": [],
   "source": [
    "classes=data['class'].value_counts()"
   ]
  },
  {
   "cell_type": "code",
   "execution_count": 10,
   "metadata": {},
   "outputs": [
    {
     "data": {
      "text/plain": [
       "Spondylolisthesis    150\n",
       "Normal               100\n",
       "Hernia                60\n",
       "Name: class, dtype: int64"
      ]
     },
     "execution_count": 10,
     "metadata": {},
     "output_type": "execute_result"
    }
   ],
   "source": [
    "classes"
   ]
  },
  {
   "cell_type": "code",
   "execution_count": 11,
   "metadata": {},
   "outputs": [
    {
     "data": {
      "text/plain": [
       "<matplotlib.axes._subplots.AxesSubplot at 0x7f686e503c88>"
      ]
     },
     "execution_count": 11,
     "metadata": {},
     "output_type": "execute_result"
    },
    {
     "data": {
      "image/png": "[encoded data removed]",
      "text/plain": [
       "<Figure size 1080x720 with 1 Axes>"
      ]
     },
     "metadata": {},
     "output_type": "display_data"
    }
   ],
   "source": [
    "classes.plot(kind='bar', figsize=(15,10))"
   ]
  },
  {
   "cell_type": "code",
   "execution_count": 20,
   "metadata": {},
   "outputs": [],
   "source": [
    "data['class'] = data['class'].replace({'Hernia' : 1}, regex=True)\n",
    "data['class'] = data['class'].replace({'Spondylolisthesis' : 2}, regex=True)\n",
    "data['class'] = data['class'].replace({'Normal' : 0}, regex=True)"
   ]
  },
  {
   "cell_type": "code",
   "execution_count": 21,
   "metadata": {},
   "outputs": [
    {
     "data": {
      "text/html": [
       "<div>\n",
       "<style scoped>\n",
       "    .dataframe tbody tr th:only-of-type {\n",
       "        vertical-align: middle;\n",
       "    }\n",
       "\n",
       "    .dataframe tbody tr th {\n",
       "        vertical-align: top;\n",
       "    }\n",
       "\n",
       "    .dataframe thead th {\n",
       "        text-align: right;\n",
       "    }\n",
       "</style>\n",
       "<table border=\"1\" class=\"dataframe\">\n",
       "  <thead>\n",
       "    <tr style=\"text-align: right;\">\n",
       "      <th></th>\n",
       "      <th>pelvic_incidence</th>\n",
       "      <th>pelvic_tilt</th>\n",
       "      <th>lumbar_lordosis_angle</th>\n",
       "      <th>sacral_slope</th>\n",
       "      <th>pelvic_radius</th>\n",
       "      <th>degree_spondylolisthesis</th>\n",
       "      <th>class</th>\n",
       "    </tr>\n",
       "  </thead>\n",
       "  <tbody>\n",
       "    <tr>\n",
       "      <th>0</th>\n",
       "      <td>63.027818</td>\n",
       "      <td>22.552586</td>\n",
       "      <td>39.609117</td>\n",
       "      <td>40.475232</td>\n",
       "      <td>98.672917</td>\n",
       "      <td>-0.254400</td>\n",
       "      <td>1</td>\n",
       "    </tr>\n",
       "    <tr>\n",
       "      <th>1</th>\n",
       "      <td>39.056951</td>\n",
       "      <td>10.060991</td>\n",
       "      <td>25.015378</td>\n",
       "      <td>28.995960</td>\n",
       "      <td>114.405425</td>\n",
       "      <td>4.564259</td>\n",
       "      <td>1</td>\n",
       "    </tr>\n",
       "    <tr>\n",
       "      <th>2</th>\n",
       "      <td>68.832021</td>\n",
       "      <td>22.218482</td>\n",
       "      <td>50.092194</td>\n",
       "      <td>46.613539</td>\n",
       "      <td>105.985135</td>\n",
       "      <td>-3.530317</td>\n",
       "      <td>1</td>\n",
       "    </tr>\n",
       "    <tr>\n",
       "      <th>3</th>\n",
       "      <td>69.297008</td>\n",
       "      <td>24.652878</td>\n",
       "      <td>44.311238</td>\n",
       "      <td>44.644130</td>\n",
       "      <td>101.868495</td>\n",
       "      <td>11.211523</td>\n",
       "      <td>1</td>\n",
       "    </tr>\n",
       "    <tr>\n",
       "      <th>4</th>\n",
       "      <td>49.712859</td>\n",
       "      <td>9.652075</td>\n",
       "      <td>28.317406</td>\n",
       "      <td>40.060784</td>\n",
       "      <td>108.168725</td>\n",
       "      <td>7.918501</td>\n",
       "      <td>1</td>\n",
       "    </tr>\n",
       "  </tbody>\n",
       "</table>\n",
       "</div>"
      ],
      "text/plain": [
       "   pelvic_incidence  pelvic_tilt  lumbar_lordosis_angle  sacral_slope  \\\n",
       "0         63.027818    22.552586              39.609117     40.475232   \n",
       "1         39.056951    10.060991              25.015378     28.995960   \n",
       "2         68.832021    22.218482              50.092194     46.613539   \n",
       "3         69.297008    24.652878              44.311238     44.644130   \n",
       "4         49.712859     9.652075              28.317406     40.060784   \n",
       "\n",
       "   pelvic_radius  degree_spondylolisthesis  class  \n",
       "0      98.672917                 -0.254400      1  \n",
       "1     114.405425                  4.564259      1  \n",
       "2     105.985135                 -3.530317      1  \n",
       "3     101.868495                 11.211523      1  \n",
       "4     108.168725                  7.918501      1  "
      ]
     },
     "execution_count": 21,
     "metadata": {},
     "output_type": "execute_result"
    }
   ],
   "source": [
    "data.head()"
   ]
  },
  {
   "cell_type": "code",
   "execution_count": null,
   "metadata": {},
   "outputs": [],
   "source": [
    "data['class'].unique()"
   ]
  },
  {
   "cell_type": "code",
   "execution_count": 22,
   "metadata": {},
   "outputs": [
    {
     "data": {
      "text/plain": [
       "array([1, 2, 0])"
      ]
     },
     "execution_count": 22,
     "metadata": {},
     "output_type": "execute_result"
    }
   ],
   "source": [
    "data['class'].unique()"
   ]
  },
  {
   "cell_type": "code",
   "execution_count": 24,
   "metadata": {},
   "outputs": [
    {
     "data": {
      "text/plain": [
       "pelvic_incidence            float64\n",
       "pelvic_tilt                 float64\n",
       "lumbar_lordosis_angle       float64\n",
       "sacral_slope                float64\n",
       "pelvic_radius               float64\n",
       "degree_spondylolisthesis    float64\n",
       "class                         int64\n",
       "dtype: object"
      ]
     },
     "execution_count": 24,
     "metadata": {},
     "output_type": "execute_result"
    }
   ],
   "source": [
    "data.dtypes"
   ]
  },
  {
   "cell_type": "code",
   "execution_count": 35,
   "metadata": {},
   "outputs": [],
   "source": [
    "cols = ['pelvic_incidence', 'pelvic_tilt', 'lumbar_lordosis_angle',\n",
    "       'sacral_slope', 'pelvic_radius', 'degree_spondylolisthesis', 'class']"
   ]
  },
  {
   "cell_type": "code",
   "execution_count": 26,
   "metadata": {},
   "outputs": [],
   "source": [
    "from sklearn import preprocessing\n",
    "min_max_scaler = preprocessing.MinMaxScaler()"
   ]
  },
  {
   "cell_type": "code",
   "execution_count": 27,
   "metadata": {},
   "outputs": [],
   "source": [
    "x_scaled = min_max_scaler.fit_transform(data)"
   ]
  },
  {
   "cell_type": "code",
   "execution_count": 28,
   "metadata": {},
   "outputs": [
    {
     "data": {
      "text/plain": [
       "array([[0.35568788, 0.51989984, 0.22917997, ..., 0.30746116, 0.02514839,\n",
       "        0.5       ],\n",
       "       [0.12450104, 0.2967831 , 0.09857833, ..., 0.47664891, 0.03636497,\n",
       "        0.5       ],\n",
       "       [0.41166648, 0.51393229, 0.32299466, ..., 0.38609692, 0.0175229 ,\n",
       "        0.5       ],\n",
       "       ...,\n",
       "       [0.34043781, 0.52244298, 0.28789745, ..., 0.59779618, 0.01943732,\n",
       "        0.        ],\n",
       "       [0.18425678, 0.27235174, 0.24684569, ..., 0.52117504, 0.02624045,\n",
       "        0.        ],\n",
       "       [0.07420202, 0.20770855, 0.20261992, ..., 0.57924032, 0.02527676,\n",
       "        0.        ]])"
      ]
     },
     "execution_count": 28,
     "metadata": {},
     "output_type": "execute_result"
    }
   ],
   "source": [
    "x_scaled"
   ]
  },
  {
   "cell_type": "code",
   "execution_count": 29,
   "metadata": {},
   "outputs": [],
   "source": [
    "data_normalized = pd.DataFrame(x_scaled)"
   ]
  },
  {
   "cell_type": "code",
   "execution_count": 33,
   "metadata": {},
   "outputs": [
    {
     "data": {
      "text/html": [
       "<div>\n",
       "<style scoped>\n",
       "    .dataframe tbody tr th:only-of-type {\n",
       "        vertical-align: middle;\n",
       "    }\n",
       "\n",
       "    .dataframe tbody tr th {\n",
       "        vertical-align: top;\n",
       "    }\n",
       "\n",
       "    .dataframe thead th {\n",
       "        text-align: right;\n",
       "    }\n",
       "</style>\n",
       "<table border=\"1\" class=\"dataframe\">\n",
       "  <thead>\n",
       "    <tr style=\"text-align: right;\">\n",
       "      <th></th>\n",
       "      <th>0</th>\n",
       "      <th>1</th>\n",
       "      <th>2</th>\n",
       "      <th>3</th>\n",
       "      <th>4</th>\n",
       "      <th>5</th>\n",
       "      <th>6</th>\n",
       "    </tr>\n",
       "  </thead>\n",
       "  <tbody>\n",
       "    <tr>\n",
       "      <th>0</th>\n",
       "      <td>0.355688</td>\n",
       "      <td>0.519900</td>\n",
       "      <td>0.229180</td>\n",
       "      <td>0.250857</td>\n",
       "      <td>0.307461</td>\n",
       "      <td>0.025148</td>\n",
       "      <td>0.5</td>\n",
       "    </tr>\n",
       "    <tr>\n",
       "      <th>1</th>\n",
       "      <td>0.124501</td>\n",
       "      <td>0.296783</td>\n",
       "      <td>0.098578</td>\n",
       "      <td>0.144629</td>\n",
       "      <td>0.476649</td>\n",
       "      <td>0.036365</td>\n",
       "      <td>0.5</td>\n",
       "    </tr>\n",
       "    <tr>\n",
       "      <th>2</th>\n",
       "      <td>0.411666</td>\n",
       "      <td>0.513932</td>\n",
       "      <td>0.322995</td>\n",
       "      <td>0.307661</td>\n",
       "      <td>0.386097</td>\n",
       "      <td>0.017523</td>\n",
       "      <td>0.5</td>\n",
       "    </tr>\n",
       "    <tr>\n",
       "      <th>3</th>\n",
       "      <td>0.416151</td>\n",
       "      <td>0.557414</td>\n",
       "      <td>0.271260</td>\n",
       "      <td>0.289436</td>\n",
       "      <td>0.341826</td>\n",
       "      <td>0.051838</td>\n",
       "      <td>0.5</td>\n",
       "    </tr>\n",
       "    <tr>\n",
       "      <th>4</th>\n",
       "      <td>0.227272</td>\n",
       "      <td>0.289479</td>\n",
       "      <td>0.128129</td>\n",
       "      <td>0.247022</td>\n",
       "      <td>0.409579</td>\n",
       "      <td>0.044173</td>\n",
       "      <td>0.5</td>\n",
       "    </tr>\n",
       "    <tr>\n",
       "      <th>5</th>\n",
       "      <td>0.136009</td>\n",
       "      <td>0.365744</td>\n",
       "      <td>0.099559</td>\n",
       "      <td>0.119943</td>\n",
       "      <td>0.647879</td>\n",
       "      <td>0.030933</td>\n",
       "      <td>0.5</td>\n",
       "    </tr>\n",
       "    <tr>\n",
       "      <th>6</th>\n",
       "      <td>0.263150</td>\n",
       "      <td>0.400439</td>\n",
       "      <td>0.207316</td>\n",
       "      <td>0.223960</td>\n",
       "      <td>0.542916</td>\n",
       "      <td>0.039680</td>\n",
       "      <td>0.5</td>\n",
       "    </tr>\n",
       "    <tr>\n",
       "      <th>7</th>\n",
       "      <td>0.185356</td>\n",
       "      <td>0.309190</td>\n",
       "      <td>0.134581</td>\n",
       "      <td>0.196592</td>\n",
       "      <td>0.507455</td>\n",
       "      <td>0.000890</td>\n",
       "      <td>0.5</td>\n",
       "    </tr>\n",
       "    <tr>\n",
       "      <th>8</th>\n",
       "      <td>0.170151</td>\n",
       "      <td>0.358811</td>\n",
       "      <td>0.256759</td>\n",
       "      <td>0.156294</td>\n",
       "      <td>0.590614</td>\n",
       "      <td>0.056674</td>\n",
       "      <td>0.5</td>\n",
       "    </tr>\n",
       "    <tr>\n",
       "      <th>9</th>\n",
       "      <td>0.101638</td>\n",
       "      <td>0.206581</td>\n",
       "      <td>0.250118</td>\n",
       "      <td>0.169425</td>\n",
       "      <td>0.152264</td>\n",
       "      <td>0.027287</td>\n",
       "      <td>0.5</td>\n",
       "    </tr>\n",
       "    <tr>\n",
       "      <th>10</th>\n",
       "      <td>0.227212</td>\n",
       "      <td>0.350010</td>\n",
       "      <td>0.155129</td>\n",
       "      <td>0.215604</td>\n",
       "      <td>0.414736</td>\n",
       "      <td>0.007524</td>\n",
       "      <td>0.5</td>\n",
       "    </tr>\n",
       "    <tr>\n",
       "      <th>11</th>\n",
       "      <td>0.049037</td>\n",
       "      <td>0.433509</td>\n",
       "      <td>0.013424</td>\n",
       "      <td>0.001385</td>\n",
       "      <td>0.537409</td>\n",
       "      <td>0.026904</td>\n",
       "      <td>0.5</td>\n",
       "    </tr>\n",
       "    <tr>\n",
       "      <th>12</th>\n",
       "      <td>0.219582</td>\n",
       "      <td>0.473674</td>\n",
       "      <td>0.235039</td>\n",
       "      <td>0.144213</td>\n",
       "      <td>0.529515</td>\n",
       "      <td>0.044430</td>\n",
       "      <td>0.5</td>\n",
       "    </tr>\n",
       "    <tr>\n",
       "      <th>13</th>\n",
       "      <td>0.264493</td>\n",
       "      <td>0.482538</td>\n",
       "      <td>0.170929</td>\n",
       "      <td>0.182713</td>\n",
       "      <td>0.439669</td>\n",
       "      <td>0.042139</td>\n",
       "      <td>0.5</td>\n",
       "    </tr>\n",
       "    <tr>\n",
       "      <th>14</th>\n",
       "      <td>0.300448</td>\n",
       "      <td>0.549126</td>\n",
       "      <td>0.295322</td>\n",
       "      <td>0.182713</td>\n",
       "      <td>0.502471</td>\n",
       "      <td>0.039165</td>\n",
       "      <td>0.5</td>\n",
       "    </tr>\n",
       "    <tr>\n",
       "      <th>15</th>\n",
       "      <td>0.175250</td>\n",
       "      <td>0.341026</td>\n",
       "      <td>0.197765</td>\n",
       "      <td>0.170401</td>\n",
       "      <td>0.581075</td>\n",
       "      <td>0.038347</td>\n",
       "      <td>0.5</td>\n",
       "    </tr>\n",
       "    <tr>\n",
       "      <th>16</th>\n",
       "      <td>0.363473</td>\n",
       "      <td>0.480782</td>\n",
       "      <td>0.362910</td>\n",
       "      <td>0.278593</td>\n",
       "      <td>0.454109</td>\n",
       "      <td>0.024291</td>\n",
       "      <td>0.5</td>\n",
       "    </tr>\n",
       "    <tr>\n",
       "      <th>17</th>\n",
       "      <td>0.049458</td>\n",
       "      <td>0.173248</td>\n",
       "      <td>0.166123</td>\n",
       "      <td>0.136628</td>\n",
       "      <td>0.633722</td>\n",
       "      <td>0.034174</td>\n",
       "      <td>0.5</td>\n",
       "    </tr>\n",
       "    <tr>\n",
       "      <th>18</th>\n",
       "      <td>0.121038</td>\n",
       "      <td>0.357222</td>\n",
       "      <td>0.152136</td>\n",
       "      <td>0.109994</td>\n",
       "      <td>0.570788</td>\n",
       "      <td>0.029067</td>\n",
       "      <td>0.5</td>\n",
       "    </tr>\n",
       "    <tr>\n",
       "      <th>19</th>\n",
       "      <td>0.150281</td>\n",
       "      <td>0.335955</td>\n",
       "      <td>0.144284</td>\n",
       "      <td>0.149071</td>\n",
       "      <td>0.500096</td>\n",
       "      <td>0.022844</td>\n",
       "      <td>0.5</td>\n",
       "    </tr>\n",
       "    <tr>\n",
       "      <th>20</th>\n",
       "      <td>0.171430</td>\n",
       "      <td>0.370318</td>\n",
       "      <td>0.213281</td>\n",
       "      <td>0.151560</td>\n",
       "      <td>0.692327</td>\n",
       "      <td>0.040758</td>\n",
       "      <td>0.5</td>\n",
       "    </tr>\n",
       "    <tr>\n",
       "      <th>21</th>\n",
       "      <td>0.277487</td>\n",
       "      <td>0.493282</td>\n",
       "      <td>0.252366</td>\n",
       "      <td>0.189614</td>\n",
       "      <td>0.592871</td>\n",
       "      <td>0.031403</td>\n",
       "      <td>0.5</td>\n",
       "    </tr>\n",
       "    <tr>\n",
       "      <th>22</th>\n",
       "      <td>0.356130</td>\n",
       "      <td>0.553144</td>\n",
       "      <td>0.357966</td>\n",
       "      <td>0.234058</td>\n",
       "      <td>0.390820</td>\n",
       "      <td>0.062472</td>\n",
       "      <td>0.5</td>\n",
       "    </tr>\n",
       "    <tr>\n",
       "      <th>23</th>\n",
       "      <td>0.187034</td>\n",
       "      <td>0.350521</td>\n",
       "      <td>0.145856</td>\n",
       "      <td>0.176789</td>\n",
       "      <td>0.515099</td>\n",
       "      <td>0.014132</td>\n",
       "      <td>0.5</td>\n",
       "    </tr>\n",
       "    <tr>\n",
       "      <th>24</th>\n",
       "      <td>0.096230</td>\n",
       "      <td>0.523582</td>\n",
       "      <td>0.134237</td>\n",
       "      <td>0.000000</td>\n",
       "      <td>0.489249</td>\n",
       "      <td>0.018204</td>\n",
       "      <td>0.5</td>\n",
       "    </tr>\n",
       "    <tr>\n",
       "      <th>25</th>\n",
       "      <td>0.269824</td>\n",
       "      <td>0.593094</td>\n",
       "      <td>0.190883</td>\n",
       "      <td>0.130549</td>\n",
       "      <td>0.552374</td>\n",
       "      <td>0.029398</td>\n",
       "      <td>0.5</td>\n",
       "    </tr>\n",
       "    <tr>\n",
       "      <th>26</th>\n",
       "      <td>0.000000</td>\n",
       "      <td>0.309259</td>\n",
       "      <td>0.000000</td>\n",
       "      <td>0.018707</td>\n",
       "      <td>0.592769</td>\n",
       "      <td>0.002246</td>\n",
       "      <td>0.5</td>\n",
       "    </tr>\n",
       "    <tr>\n",
       "      <th>27</th>\n",
       "      <td>0.168133</td>\n",
       "      <td>0.411951</td>\n",
       "      <td>0.295322</td>\n",
       "      <td>0.126826</td>\n",
       "      <td>0.421440</td>\n",
       "      <td>0.046673</td>\n",
       "      <td>0.5</td>\n",
       "    </tr>\n",
       "    <tr>\n",
       "      <th>28</th>\n",
       "      <td>0.177488</td>\n",
       "      <td>0.508800</td>\n",
       "      <td>0.114423</td>\n",
       "      <td>0.085626</td>\n",
       "      <td>0.440811</td>\n",
       "      <td>0.031914</td>\n",
       "      <td>0.5</td>\n",
       "    </tr>\n",
       "    <tr>\n",
       "      <th>29</th>\n",
       "      <td>0.392833</td>\n",
       "      <td>0.561685</td>\n",
       "      <td>0.315714</td>\n",
       "      <td>0.264849</td>\n",
       "      <td>0.466665</td>\n",
       "      <td>0.021071</td>\n",
       "      <td>0.5</td>\n",
       "    </tr>\n",
       "    <tr>\n",
       "      <th>...</th>\n",
       "      <td>...</td>\n",
       "      <td>...</td>\n",
       "      <td>...</td>\n",
       "      <td>...</td>\n",
       "      <td>...</td>\n",
       "      <td>...</td>\n",
       "      <td>...</td>\n",
       "    </tr>\n",
       "    <tr>\n",
       "      <th>280</th>\n",
       "      <td>0.230872</td>\n",
       "      <td>0.356959</td>\n",
       "      <td>0.183078</td>\n",
       "      <td>0.215516</td>\n",
       "      <td>0.527507</td>\n",
       "      <td>0.032932</td>\n",
       "      <td>0.0</td>\n",
       "    </tr>\n",
       "    <tr>\n",
       "      <th>281</th>\n",
       "      <td>0.367586</td>\n",
       "      <td>0.376032</td>\n",
       "      <td>0.267602</td>\n",
       "      <td>0.336811</td>\n",
       "      <td>0.487218</td>\n",
       "      <td>0.039594</td>\n",
       "      <td>0.0</td>\n",
       "    </tr>\n",
       "    <tr>\n",
       "      <th>282</th>\n",
       "      <td>0.265566</td>\n",
       "      <td>0.357262</td>\n",
       "      <td>0.246856</td>\n",
       "      <td>0.248647</td>\n",
       "      <td>0.471361</td>\n",
       "      <td>0.032112</td>\n",
       "      <td>0.0</td>\n",
       "    </tr>\n",
       "    <tr>\n",
       "      <th>283</th>\n",
       "      <td>0.220358</td>\n",
       "      <td>0.351311</td>\n",
       "      <td>0.338936</td>\n",
       "      <td>0.208353</td>\n",
       "      <td>0.605619</td>\n",
       "      <td>0.026987</td>\n",
       "      <td>0.0</td>\n",
       "    </tr>\n",
       "    <tr>\n",
       "      <th>284</th>\n",
       "      <td>0.318458</td>\n",
       "      <td>0.377191</td>\n",
       "      <td>0.261308</td>\n",
       "      <td>0.289072</td>\n",
       "      <td>0.547950</td>\n",
       "      <td>0.032329</td>\n",
       "      <td>0.0</td>\n",
       "    </tr>\n",
       "    <tr>\n",
       "      <th>285</th>\n",
       "      <td>0.401758</td>\n",
       "      <td>0.412697</td>\n",
       "      <td>0.261824</td>\n",
       "      <td>0.350603</td>\n",
       "      <td>0.533433</td>\n",
       "      <td>0.037071</td>\n",
       "      <td>0.0</td>\n",
       "    </tr>\n",
       "    <tr>\n",
       "      <th>286</th>\n",
       "      <td>0.343218</td>\n",
       "      <td>0.422765</td>\n",
       "      <td>0.294427</td>\n",
       "      <td>0.289218</td>\n",
       "      <td>0.546709</td>\n",
       "      <td>0.032928</td>\n",
       "      <td>0.0</td>\n",
       "    </tr>\n",
       "    <tr>\n",
       "      <th>287</th>\n",
       "      <td>0.066487</td>\n",
       "      <td>0.111281</td>\n",
       "      <td>0.045382</td>\n",
       "      <td>0.185073</td>\n",
       "      <td>0.540992</td>\n",
       "      <td>0.047515</td>\n",
       "      <td>0.0</td>\n",
       "    </tr>\n",
       "    <tr>\n",
       "      <th>288</th>\n",
       "      <td>0.466958</td>\n",
       "      <td>0.397938</td>\n",
       "      <td>0.399299</td>\n",
       "      <td>0.420809</td>\n",
       "      <td>0.379990</td>\n",
       "      <td>0.027135</td>\n",
       "      <td>0.0</td>\n",
       "    </tr>\n",
       "    <tr>\n",
       "      <th>289</th>\n",
       "      <td>0.176328</td>\n",
       "      <td>0.370252</td>\n",
       "      <td>0.163264</td>\n",
       "      <td>0.156294</td>\n",
       "      <td>0.662825</td>\n",
       "      <td>0.017351</td>\n",
       "      <td>0.0</td>\n",
       "    </tr>\n",
       "    <tr>\n",
       "      <th>290</th>\n",
       "      <td>0.099093</td>\n",
       "      <td>0.364985</td>\n",
       "      <td>0.055866</td>\n",
       "      <td>0.084915</td>\n",
       "      <td>0.602164</td>\n",
       "      <td>0.026159</td>\n",
       "      <td>0.0</td>\n",
       "    </tr>\n",
       "    <tr>\n",
       "      <th>291</th>\n",
       "      <td>0.240456</td>\n",
       "      <td>0.370889</td>\n",
       "      <td>0.196445</td>\n",
       "      <td>0.217494</td>\n",
       "      <td>0.491686</td>\n",
       "      <td>0.041814</td>\n",
       "      <td>0.0</td>\n",
       "    </tr>\n",
       "    <tr>\n",
       "      <th>292</th>\n",
       "      <td>0.083028</td>\n",
       "      <td>0.164087</td>\n",
       "      <td>0.138751</td>\n",
       "      <td>0.173585</td>\n",
       "      <td>0.613595</td>\n",
       "      <td>0.024668</td>\n",
       "      <td>0.0</td>\n",
       "    </tr>\n",
       "    <tr>\n",
       "      <th>293</th>\n",
       "      <td>0.219460</td>\n",
       "      <td>0.216882</td>\n",
       "      <td>0.371390</td>\n",
       "      <td>0.277139</td>\n",
       "      <td>0.720796</td>\n",
       "      <td>0.071957</td>\n",
       "      <td>0.0</td>\n",
       "    </tr>\n",
       "    <tr>\n",
       "      <th>294</th>\n",
       "      <td>0.193743</td>\n",
       "      <td>0.296815</td>\n",
       "      <td>0.205831</td>\n",
       "      <td>0.211051</td>\n",
       "      <td>0.623529</td>\n",
       "      <td>0.013869</td>\n",
       "      <td>0.0</td>\n",
       "    </tr>\n",
       "    <tr>\n",
       "      <th>295</th>\n",
       "      <td>0.195575</td>\n",
       "      <td>0.235337</td>\n",
       "      <td>0.305166</td>\n",
       "      <td>0.244660</td>\n",
       "      <td>0.648118</td>\n",
       "      <td>0.031442</td>\n",
       "      <td>0.0</td>\n",
       "    </tr>\n",
       "    <tr>\n",
       "      <th>296</th>\n",
       "      <td>0.130287</td>\n",
       "      <td>0.406592</td>\n",
       "      <td>0.202921</td>\n",
       "      <td>0.093290</td>\n",
       "      <td>0.665023</td>\n",
       "      <td>0.014174</td>\n",
       "      <td>0.0</td>\n",
       "    </tr>\n",
       "    <tr>\n",
       "      <th>297</th>\n",
       "      <td>0.187369</td>\n",
       "      <td>0.452144</td>\n",
       "      <td>0.176962</td>\n",
       "      <td>0.124459</td>\n",
       "      <td>0.502368</td>\n",
       "      <td>0.033031</td>\n",
       "      <td>0.0</td>\n",
       "    </tr>\n",
       "    <tr>\n",
       "      <th>298</th>\n",
       "      <td>0.389245</td>\n",
       "      <td>0.490341</td>\n",
       "      <td>0.158646</td>\n",
       "      <td>0.298369</td>\n",
       "      <td>0.632555</td>\n",
       "      <td>0.029272</td>\n",
       "      <td>0.0</td>\n",
       "    </tr>\n",
       "    <tr>\n",
       "      <th>299</th>\n",
       "      <td>0.547397</td>\n",
       "      <td>0.651030</td>\n",
       "      <td>0.396005</td>\n",
       "      <td>0.366864</td>\n",
       "      <td>0.436897</td>\n",
       "      <td>0.039892</td>\n",
       "      <td>0.0</td>\n",
       "    </tr>\n",
       "    <tr>\n",
       "      <th>300</th>\n",
       "      <td>0.236567</td>\n",
       "      <td>0.232491</td>\n",
       "      <td>0.187932</td>\n",
       "      <td>0.285466</td>\n",
       "      <td>0.500120</td>\n",
       "      <td>0.025241</td>\n",
       "      <td>0.0</td>\n",
       "    </tr>\n",
       "    <tr>\n",
       "      <th>301</th>\n",
       "      <td>0.606320</td>\n",
       "      <td>0.582832</td>\n",
       "      <td>0.492394</td>\n",
       "      <td>0.458734</td>\n",
       "      <td>0.445200</td>\n",
       "      <td>0.039850</td>\n",
       "      <td>0.0</td>\n",
       "    </tr>\n",
       "    <tr>\n",
       "      <th>302</th>\n",
       "      <td>0.274409</td>\n",
       "      <td>0.500902</td>\n",
       "      <td>0.137461</td>\n",
       "      <td>0.182713</td>\n",
       "      <td>0.518997</td>\n",
       "      <td>0.022316</td>\n",
       "      <td>0.0</td>\n",
       "    </tr>\n",
       "    <tr>\n",
       "      <th>303</th>\n",
       "      <td>0.079416</td>\n",
       "      <td>0.153923</td>\n",
       "      <td>0.164582</td>\n",
       "      <td>0.175386</td>\n",
       "      <td>0.626074</td>\n",
       "      <td>0.017907</td>\n",
       "      <td>0.0</td>\n",
       "    </tr>\n",
       "    <tr>\n",
       "      <th>304</th>\n",
       "      <td>0.182546</td>\n",
       "      <td>0.336899</td>\n",
       "      <td>0.273694</td>\n",
       "      <td>0.179540</td>\n",
       "      <td>0.836793</td>\n",
       "      <td>0.004927</td>\n",
       "      <td>0.0</td>\n",
       "    </tr>\n",
       "    <tr>\n",
       "      <th>305</th>\n",
       "      <td>0.209822</td>\n",
       "      <td>0.360293</td>\n",
       "      <td>0.196881</td>\n",
       "      <td>0.193591</td>\n",
       "      <td>0.509380</td>\n",
       "      <td>0.015858</td>\n",
       "      <td>0.0</td>\n",
       "    </tr>\n",
       "    <tr>\n",
       "      <th>306</th>\n",
       "      <td>0.268009</td>\n",
       "      <td>0.487194</td>\n",
       "      <td>0.136211</td>\n",
       "      <td>0.183674</td>\n",
       "      <td>0.476223</td>\n",
       "      <td>0.024761</td>\n",
       "      <td>0.0</td>\n",
       "    </tr>\n",
       "    <tr>\n",
       "      <th>307</th>\n",
       "      <td>0.340438</td>\n",
       "      <td>0.522443</td>\n",
       "      <td>0.287897</td>\n",
       "      <td>0.234907</td>\n",
       "      <td>0.597796</td>\n",
       "      <td>0.019437</td>\n",
       "      <td>0.0</td>\n",
       "    </tr>\n",
       "    <tr>\n",
       "      <th>308</th>\n",
       "      <td>0.184257</td>\n",
       "      <td>0.272352</td>\n",
       "      <td>0.246846</td>\n",
       "      <td>0.214623</td>\n",
       "      <td>0.521175</td>\n",
       "      <td>0.026240</td>\n",
       "      <td>0.0</td>\n",
       "    </tr>\n",
       "    <tr>\n",
       "      <th>309</th>\n",
       "      <td>0.074202</td>\n",
       "      <td>0.207709</td>\n",
       "      <td>0.202620</td>\n",
       "      <td>0.142517</td>\n",
       "      <td>0.579240</td>\n",
       "      <td>0.025277</td>\n",
       "      <td>0.0</td>\n",
       "    </tr>\n",
       "  </tbody>\n",
       "</table>\n",
       "<p>310 rows × 7 columns</p>\n",
       "</div>"
      ],
      "text/plain": [
       "            0         1         2         3         4         5    6\n",
       "0    0.355688  0.519900  0.229180  0.250857  0.307461  0.025148  0.5\n",
       "1    0.124501  0.296783  0.098578  0.144629  0.476649  0.036365  0.5\n",
       "2    0.411666  0.513932  0.322995  0.307661  0.386097  0.017523  0.5\n",
       "3    0.416151  0.557414  0.271260  0.289436  0.341826  0.051838  0.5\n",
       "4    0.227272  0.289479  0.128129  0.247022  0.409579  0.044173  0.5\n",
       "5    0.136009  0.365744  0.099559  0.119943  0.647879  0.030933  0.5\n",
       "6    0.263150  0.400439  0.207316  0.223960  0.542916  0.039680  0.5\n",
       "7    0.185356  0.309190  0.134581  0.196592  0.507455  0.000890  0.5\n",
       "8    0.170151  0.358811  0.256759  0.156294  0.590614  0.056674  0.5\n",
       "9    0.101638  0.206581  0.250118  0.169425  0.152264  0.027287  0.5\n",
       "10   0.227212  0.350010  0.155129  0.215604  0.414736  0.007524  0.5\n",
       "11   0.049037  0.433509  0.013424  0.001385  0.537409  0.026904  0.5\n",
       "12   0.219582  0.473674  0.235039  0.144213  0.529515  0.044430  0.5\n",
       "13   0.264493  0.482538  0.170929  0.182713  0.439669  0.042139  0.5\n",
       "14   0.300448  0.549126  0.295322  0.182713  0.502471  0.039165  0.5\n",
       "15   0.175250  0.341026  0.197765  0.170401  0.581075  0.038347  0.5\n",
       "16   0.363473  0.480782  0.362910  0.278593  0.454109  0.024291  0.5\n",
       "17   0.049458  0.173248  0.166123  0.136628  0.633722  0.034174  0.5\n",
       "18   0.121038  0.357222  0.152136  0.109994  0.570788  0.029067  0.5\n",
       "19   0.150281  0.335955  0.144284  0.149071  0.500096  0.022844  0.5\n",
       "20   0.171430  0.370318  0.213281  0.151560  0.692327  0.040758  0.5\n",
       "21   0.277487  0.493282  0.252366  0.189614  0.592871  0.031403  0.5\n",
       "22   0.356130  0.553144  0.357966  0.234058  0.390820  0.062472  0.5\n",
       "23   0.187034  0.350521  0.145856  0.176789  0.515099  0.014132  0.5\n",
       "24   0.096230  0.523582  0.134237  0.000000  0.489249  0.018204  0.5\n",
       "25   0.269824  0.593094  0.190883  0.130549  0.552374  0.029398  0.5\n",
       "26   0.000000  0.309259  0.000000  0.018707  0.592769  0.002246  0.5\n",
       "27   0.168133  0.411951  0.295322  0.126826  0.421440  0.046673  0.5\n",
       "28   0.177488  0.508800  0.114423  0.085626  0.440811  0.031914  0.5\n",
       "29   0.392833  0.561685  0.315714  0.264849  0.466665  0.021071  0.5\n",
       "..        ...       ...       ...       ...       ...       ...  ...\n",
       "280  0.230872  0.356959  0.183078  0.215516  0.527507  0.032932  0.0\n",
       "281  0.367586  0.376032  0.267602  0.336811  0.487218  0.039594  0.0\n",
       "282  0.265566  0.357262  0.246856  0.248647  0.471361  0.032112  0.0\n",
       "283  0.220358  0.351311  0.338936  0.208353  0.605619  0.026987  0.0\n",
       "284  0.318458  0.377191  0.261308  0.289072  0.547950  0.032329  0.0\n",
       "285  0.401758  0.412697  0.261824  0.350603  0.533433  0.037071  0.0\n",
       "286  0.343218  0.422765  0.294427  0.289218  0.546709  0.032928  0.0\n",
       "287  0.066487  0.111281  0.045382  0.185073  0.540992  0.047515  0.0\n",
       "288  0.466958  0.397938  0.399299  0.420809  0.379990  0.027135  0.0\n",
       "289  0.176328  0.370252  0.163264  0.156294  0.662825  0.017351  0.0\n",
       "290  0.099093  0.364985  0.055866  0.084915  0.602164  0.026159  0.0\n",
       "291  0.240456  0.370889  0.196445  0.217494  0.491686  0.041814  0.0\n",
       "292  0.083028  0.164087  0.138751  0.173585  0.613595  0.024668  0.0\n",
       "293  0.219460  0.216882  0.371390  0.277139  0.720796  0.071957  0.0\n",
       "294  0.193743  0.296815  0.205831  0.211051  0.623529  0.013869  0.0\n",
       "295  0.195575  0.235337  0.305166  0.244660  0.648118  0.031442  0.0\n",
       "296  0.130287  0.406592  0.202921  0.093290  0.665023  0.014174  0.0\n",
       "297  0.187369  0.452144  0.176962  0.124459  0.502368  0.033031  0.0\n",
       "298  0.389245  0.490341  0.158646  0.298369  0.632555  0.029272  0.0\n",
       "299  0.547397  0.651030  0.396005  0.366864  0.436897  0.039892  0.0\n",
       "300  0.236567  0.232491  0.187932  0.285466  0.500120  0.025241  0.0\n",
       "301  0.606320  0.582832  0.492394  0.458734  0.445200  0.039850  0.0\n",
       "302  0.274409  0.500902  0.137461  0.182713  0.518997  0.022316  0.0\n",
       "303  0.079416  0.153923  0.164582  0.175386  0.626074  0.017907  0.0\n",
       "304  0.182546  0.336899  0.273694  0.179540  0.836793  0.004927  0.0\n",
       "305  0.209822  0.360293  0.196881  0.193591  0.509380  0.015858  0.0\n",
       "306  0.268009  0.487194  0.136211  0.183674  0.476223  0.024761  0.0\n",
       "307  0.340438  0.522443  0.287897  0.234907  0.597796  0.019437  0.0\n",
       "308  0.184257  0.272352  0.246846  0.214623  0.521175  0.026240  0.0\n",
       "309  0.074202  0.207709  0.202620  0.142517  0.579240  0.025277  0.0\n",
       "\n",
       "[310 rows x 7 columns]"
      ]
     },
     "execution_count": 33,
     "metadata": {},
     "output_type": "execute_result"
    }
   ],
   "source": [
    "data_normalized"
   ]
  },
  {
   "cell_type": "code",
   "execution_count": 38,
   "metadata": {},
   "outputs": [],
   "source": [
    "data_normalized.columns = cols"
   ]
  },
  {
   "cell_type": "code",
   "execution_count": 39,
   "metadata": {},
   "outputs": [
    {
     "data": {
      "text/html": [
       "<div>\n",
       "<style scoped>\n",
       "    .dataframe tbody tr th:only-of-type {\n",
       "        vertical-align: middle;\n",
       "    }\n",
       "\n",
       "    .dataframe tbody tr th {\n",
       "        vertical-align: top;\n",
       "    }\n",
       "\n",
       "    .dataframe thead th {\n",
       "        text-align: right;\n",
       "    }\n",
       "</style>\n",
       "<table border=\"1\" class=\"dataframe\">\n",
       "  <thead>\n",
       "    <tr style=\"text-align: right;\">\n",
       "      <th></th>\n",
       "      <th>pelvic_incidence</th>\n",
       "      <th>pelvic_tilt</th>\n",
       "      <th>lumbar_lordosis_angle</th>\n",
       "      <th>sacral_slope</th>\n",
       "      <th>pelvic_radius</th>\n",
       "      <th>degree_spondylolisthesis</th>\n",
       "      <th>class</th>\n",
       "    </tr>\n",
       "  </thead>\n",
       "  <tbody>\n",
       "    <tr>\n",
       "      <th>0</th>\n",
       "      <td>0.355688</td>\n",
       "      <td>0.519900</td>\n",
       "      <td>0.229180</td>\n",
       "      <td>0.250857</td>\n",
       "      <td>0.307461</td>\n",
       "      <td>0.025148</td>\n",
       "      <td>0.5</td>\n",
       "    </tr>\n",
       "    <tr>\n",
       "      <th>1</th>\n",
       "      <td>0.124501</td>\n",
       "      <td>0.296783</td>\n",
       "      <td>0.098578</td>\n",
       "      <td>0.144629</td>\n",
       "      <td>0.476649</td>\n",
       "      <td>0.036365</td>\n",
       "      <td>0.5</td>\n",
       "    </tr>\n",
       "    <tr>\n",
       "      <th>2</th>\n",
       "      <td>0.411666</td>\n",
       "      <td>0.513932</td>\n",
       "      <td>0.322995</td>\n",
       "      <td>0.307661</td>\n",
       "      <td>0.386097</td>\n",
       "      <td>0.017523</td>\n",
       "      <td>0.5</td>\n",
       "    </tr>\n",
       "    <tr>\n",
       "      <th>3</th>\n",
       "      <td>0.416151</td>\n",
       "      <td>0.557414</td>\n",
       "      <td>0.271260</td>\n",
       "      <td>0.289436</td>\n",
       "      <td>0.341826</td>\n",
       "      <td>0.051838</td>\n",
       "      <td>0.5</td>\n",
       "    </tr>\n",
       "    <tr>\n",
       "      <th>4</th>\n",
       "      <td>0.227272</td>\n",
       "      <td>0.289479</td>\n",
       "      <td>0.128129</td>\n",
       "      <td>0.247022</td>\n",
       "      <td>0.409579</td>\n",
       "      <td>0.044173</td>\n",
       "      <td>0.5</td>\n",
       "    </tr>\n",
       "  </tbody>\n",
       "</table>\n",
       "</div>"
      ],
      "text/plain": [
       "   pelvic_incidence  pelvic_tilt  lumbar_lordosis_angle  sacral_slope  \\\n",
       "0          0.355688     0.519900               0.229180      0.250857   \n",
       "1          0.124501     0.296783               0.098578      0.144629   \n",
       "2          0.411666     0.513932               0.322995      0.307661   \n",
       "3          0.416151     0.557414               0.271260      0.289436   \n",
       "4          0.227272     0.289479               0.128129      0.247022   \n",
       "\n",
       "   pelvic_radius  degree_spondylolisthesis  class  \n",
       "0       0.307461                  0.025148    0.5  \n",
       "1       0.476649                  0.036365    0.5  \n",
       "2       0.386097                  0.017523    0.5  \n",
       "3       0.341826                  0.051838    0.5  \n",
       "4       0.409579                  0.044173    0.5  "
      ]
     },
     "execution_count": 39,
     "metadata": {},
     "output_type": "execute_result"
    }
   ],
   "source": [
    "data_normalized.head()"
   ]
  },
  {
   "cell_type": "code",
   "execution_count": null,
   "metadata": {},
   "outputs": [],
   "source": []
  },
  {
   "cell_type": "code",
   "execution_count": 43,
   "metadata": {},
   "outputs": [],
   "source": [
    "from sklearn.utils import shuffle\n",
    "data_normalized = shuffle(data_normalized)"
   ]
  },
  {
   "cell_type": "code",
   "execution_count": 44,
   "metadata": {},
   "outputs": [
    {
     "data": {
      "text/html": [
       "<div>\n",
       "<style scoped>\n",
       "    .dataframe tbody tr th:only-of-type {\n",
       "        vertical-align: middle;\n",
       "    }\n",
       "\n",
       "    .dataframe tbody tr th {\n",
       "        vertical-align: top;\n",
       "    }\n",
       "\n",
       "    .dataframe thead th {\n",
       "        text-align: right;\n",
       "    }\n",
       "</style>\n",
       "<table border=\"1\" class=\"dataframe\">\n",
       "  <thead>\n",
       "    <tr style=\"text-align: right;\">\n",
       "      <th></th>\n",
       "      <th>pelvic_incidence</th>\n",
       "      <th>pelvic_tilt</th>\n",
       "      <th>lumbar_lordosis_angle</th>\n",
       "      <th>sacral_slope</th>\n",
       "      <th>pelvic_radius</th>\n",
       "      <th>degree_spondylolisthesis</th>\n",
       "      <th>class</th>\n",
       "    </tr>\n",
       "  </thead>\n",
       "  <tbody>\n",
       "    <tr>\n",
       "      <th>292</th>\n",
       "      <td>0.083028</td>\n",
       "      <td>0.164087</td>\n",
       "      <td>0.138751</td>\n",
       "      <td>0.173585</td>\n",
       "      <td>0.613595</td>\n",
       "      <td>0.024668</td>\n",
       "      <td>0.0</td>\n",
       "    </tr>\n",
       "    <tr>\n",
       "      <th>284</th>\n",
       "      <td>0.318458</td>\n",
       "      <td>0.377191</td>\n",
       "      <td>0.261308</td>\n",
       "      <td>0.289072</td>\n",
       "      <td>0.547950</td>\n",
       "      <td>0.032329</td>\n",
       "      <td>0.0</td>\n",
       "    </tr>\n",
       "    <tr>\n",
       "      <th>217</th>\n",
       "      <td>0.115528</td>\n",
       "      <td>0.234208</td>\n",
       "      <td>0.326153</td>\n",
       "      <td>0.168440</td>\n",
       "      <td>0.667096</td>\n",
       "      <td>0.040494</td>\n",
       "      <td>0.0</td>\n",
       "    </tr>\n",
       "    <tr>\n",
       "      <th>77</th>\n",
       "      <td>0.314744</td>\n",
       "      <td>0.254024</td>\n",
       "      <td>0.352050</td>\n",
       "      <td>0.349321</td>\n",
       "      <td>0.305614</td>\n",
       "      <td>0.145815</td>\n",
       "      <td>1.0</td>\n",
       "    </tr>\n",
       "    <tr>\n",
       "      <th>27</th>\n",
       "      <td>0.168133</td>\n",
       "      <td>0.411951</td>\n",
       "      <td>0.295322</td>\n",
       "      <td>0.126826</td>\n",
       "      <td>0.421440</td>\n",
       "      <td>0.046673</td>\n",
       "      <td>0.5</td>\n",
       "    </tr>\n",
       "  </tbody>\n",
       "</table>\n",
       "</div>"
      ],
      "text/plain": [
       "     pelvic_incidence  pelvic_tilt  lumbar_lordosis_angle  sacral_slope  \\\n",
       "292          0.083028     0.164087               0.138751      0.173585   \n",
       "284          0.318458     0.377191               0.261308      0.289072   \n",
       "217          0.115528     0.234208               0.326153      0.168440   \n",
       "77           0.314744     0.254024               0.352050      0.349321   \n",
       "27           0.168133     0.411951               0.295322      0.126826   \n",
       "\n",
       "     pelvic_radius  degree_spondylolisthesis  class  \n",
       "292       0.613595                  0.024668    0.0  \n",
       "284       0.547950                  0.032329    0.0  \n",
       "217       0.667096                  0.040494    0.0  \n",
       "77        0.305614                  0.145815    1.0  \n",
       "27        0.421440                  0.046673    0.5  "
      ]
     },
     "execution_count": 44,
     "metadata": {},
     "output_type": "execute_result"
    }
   ],
   "source": [
    "data_normalized.head()"
   ]
  },
  {
   "cell_type": "code",
   "execution_count": 62,
   "metadata": {},
   "outputs": [
    {
     "data": {
      "text/html": [
       "<div>\n",
       "<style scoped>\n",
       "    .dataframe tbody tr th:only-of-type {\n",
       "        vertical-align: middle;\n",
       "    }\n",
       "\n",
       "    .dataframe tbody tr th {\n",
       "        vertical-align: top;\n",
       "    }\n",
       "\n",
       "    .dataframe thead th {\n",
       "        text-align: right;\n",
       "    }\n",
       "</style>\n",
       "<table border=\"1\" class=\"dataframe\">\n",
       "  <thead>\n",
       "    <tr style=\"text-align: right;\">\n",
       "      <th></th>\n",
       "      <th>pelvic_incidence</th>\n",
       "      <th>pelvic_tilt</th>\n",
       "      <th>lumbar_lordosis_angle</th>\n",
       "      <th>sacral_slope</th>\n",
       "      <th>pelvic_radius</th>\n",
       "      <th>degree_spondylolisthesis</th>\n",
       "      <th>class</th>\n",
       "    </tr>\n",
       "  </thead>\n",
       "  <tbody>\n",
       "    <tr>\n",
       "      <th>292</th>\n",
       "      <td>0.083028</td>\n",
       "      <td>0.164087</td>\n",
       "      <td>0.138751</td>\n",
       "      <td>0.173585</td>\n",
       "      <td>0.613595</td>\n",
       "      <td>0.024668</td>\n",
       "      <td>0.0</td>\n",
       "    </tr>\n",
       "    <tr>\n",
       "      <th>284</th>\n",
       "      <td>0.318458</td>\n",
       "      <td>0.377191</td>\n",
       "      <td>0.261308</td>\n",
       "      <td>0.289072</td>\n",
       "      <td>0.547950</td>\n",
       "      <td>0.032329</td>\n",
       "      <td>0.0</td>\n",
       "    </tr>\n",
       "    <tr>\n",
       "      <th>217</th>\n",
       "      <td>0.115528</td>\n",
       "      <td>0.234208</td>\n",
       "      <td>0.326153</td>\n",
       "      <td>0.168440</td>\n",
       "      <td>0.667096</td>\n",
       "      <td>0.040494</td>\n",
       "      <td>0.0</td>\n",
       "    </tr>\n",
       "    <tr>\n",
       "      <th>77</th>\n",
       "      <td>0.314744</td>\n",
       "      <td>0.254024</td>\n",
       "      <td>0.352050</td>\n",
       "      <td>0.349321</td>\n",
       "      <td>0.305614</td>\n",
       "      <td>0.145815</td>\n",
       "      <td>1.0</td>\n",
       "    </tr>\n",
       "    <tr>\n",
       "      <th>27</th>\n",
       "      <td>0.168133</td>\n",
       "      <td>0.411951</td>\n",
       "      <td>0.295322</td>\n",
       "      <td>0.126826</td>\n",
       "      <td>0.421440</td>\n",
       "      <td>0.046673</td>\n",
       "      <td>0.5</td>\n",
       "    </tr>\n",
       "  </tbody>\n",
       "</table>\n",
       "</div>"
      ],
      "text/plain": [
       "     pelvic_incidence  pelvic_tilt  lumbar_lordosis_angle  sacral_slope  \\\n",
       "292          0.083028     0.164087               0.138751      0.173585   \n",
       "284          0.318458     0.377191               0.261308      0.289072   \n",
       "217          0.115528     0.234208               0.326153      0.168440   \n",
       "77           0.314744     0.254024               0.352050      0.349321   \n",
       "27           0.168133     0.411951               0.295322      0.126826   \n",
       "\n",
       "     pelvic_radius  degree_spondylolisthesis  class  \n",
       "292       0.613595                  0.024668    0.0  \n",
       "284       0.547950                  0.032329    0.0  \n",
       "217       0.667096                  0.040494    0.0  \n",
       "77        0.305614                  0.145815    1.0  \n",
       "27        0.421440                  0.046673    0.5  "
      ]
     },
     "execution_count": 62,
     "metadata": {},
     "output_type": "execute_result"
    }
   ],
   "source": [
    "data_normalized.head()"
   ]
  },
  {
   "cell_type": "code",
   "execution_count": 63,
   "metadata": {},
   "outputs": [],
   "source": [
    "y = data_normalized['class']"
   ]
  },
  {
   "cell_type": "code",
   "execution_count": 73,
   "metadata": {},
   "outputs": [],
   "source": [
    "x = data_normalized[['pelvic_incidence','pelvic_tilt','lumbar_lordosis_angle','sacral_slope','pelvic_radius','degree_spondylolisthesis']]"
   ]
  },
  {
   "cell_type": "code",
   "execution_count": 80,
   "metadata": {},
   "outputs": [],
   "source": [
    "y = data['class']\n",
    "x = data[['pelvic_incidence','pelvic_tilt','lumbar_lordosis_angle','sacral_slope','pelvic_radius','degree_spondylolisthesis']]"
   ]
  },
  {
   "cell_type": "code",
   "execution_count": 74,
   "metadata": {},
   "outputs": [],
   "source": [
    "from sklearn.cross_validation import train_test_split"
   ]
  },
  {
   "cell_type": "code",
   "execution_count": 81,
   "metadata": {},
   "outputs": [],
   "source": [
    "x_train, x_test, y_train, y_test = test=train_test_split(\n",
    "        x,y,test_size=0.3,random_state=0)"
   ]
  },
  {
   "cell_type": "code",
   "execution_count": 82,
   "metadata": {},
   "outputs": [],
   "source": [
    "from sklearn.svm import SVC"
   ]
  },
  {
   "cell_type": "code",
   "execution_count": 83,
   "metadata": {},
   "outputs": [],
   "source": [
    "svm = SVC(kernel='linear', C=1, random_state=0)"
   ]
  },
  {
   "cell_type": "code",
   "execution_count": 84,
   "metadata": {},
   "outputs": [
    {
     "data": {
      "text/plain": [
       "SVC(C=1, cache_size=200, class_weight=None, coef0=0.0,\n",
       "  decision_function_shape='ovr', degree=3, gamma='auto', kernel='linear',\n",
       "  max_iter=-1, probability=False, random_state=0, shrinking=True,\n",
       "  tol=0.001, verbose=False)"
      ]
     },
     "execution_count": 84,
     "metadata": {},
     "output_type": "execute_result"
    }
   ],
   "source": [
    "svm.fit(x_train, y_train)"
   ]
  },
  {
   "cell_type": "code",
   "execution_count": 85,
   "metadata": {},
   "outputs": [],
   "source": [
    "y_pred = svm.predict(x_test)"
   ]
  },
  {
   "cell_type": "code",
   "execution_count": 86,
   "metadata": {},
   "outputs": [
    {
     "name": "stdout",
     "output_type": "stream",
     "text": [
      "misclassified samples: 19\n"
     ]
    }
   ],
   "source": [
    "print('misclassified samples: %d'%(y_test!=y_pred).sum())#compute"
   ]
  },
  {
   "cell_type": "code",
   "execution_count": 87,
   "metadata": {},
   "outputs": [
    {
     "name": "stdout",
     "output_type": "stream",
     "text": [
      "Accuracy:0.80\n"
     ]
    }
   ],
   "source": [
    "from sklearn.metrics import accuracy_score\n",
    "print('Accuracy:%.2f'%accuracy_score(y_test,y_pred))"
   ]
  },
  {
   "cell_type": "code",
   "execution_count": 89,
   "metadata": {},
   "outputs": [],
   "source": [
    "from sklearn.neural_network import MLPClassifier"
   ]
  },
  {
   "cell_type": "code",
   "execution_count": 118,
   "metadata": {},
   "outputs": [
    {
     "data": {
      "text/plain": [
       "MLPClassifier(activation='tanh', alpha=0.0001, batch_size='auto', beta_1=0.9,\n",
       "       beta_2=0.999, early_stopping=False, epsilon=1e-08,\n",
       "       hidden_layer_sizes=(100, 100), learning_rate='constant',\n",
       "       learning_rate_init=0.001, max_iter=500, momentum=0.9,\n",
       "       nesterovs_momentum=True, power_t=0.5, random_state=21, shuffle=True,\n",
       "       solver='sgd', tol=1e-09, validation_fraction=0.1, verbose=10,\n",
       "       warm_start=False)"
      ]
     },
     "execution_count": 118,
     "metadata": {},
     "output_type": "execute_result"
    }
   ],
   "source": [
    "MLPClassifier(hidden_layer_sizes=(100,100), max_iter=500, alpha=0.0001,\n",
    "                     solver='sgd', verbose=10, activation = 'tanh', random_state=21,tol=0.000000001)"
   ]
  },
  {
   "cell_type": "code",
   "execution_count": 119,
   "metadata": {},
   "outputs": [
    {
     "name": "stderr",
     "output_type": "stream",
     "text": [
      "/home/subz/anaconda3/lib/python3.6/site-packages/sklearn/neural_network/multilayer_perceptron.py:564: ConvergenceWarning: Stochastic Optimizer: Maximum iterations (200) reached and the optimization hasn't converged yet.\n",
      "  % self.max_iter, ConvergenceWarning)\n"
     ]
    },
    {
     "data": {
      "text/plain": [
       "MLPClassifier(activation='logistic', alpha=0.0001, batch_size='auto',\n",
       "       beta_1=0.9, beta_2=0.999, early_stopping=False, epsilon=1e-08,\n",
       "       hidden_layer_sizes=(50, 50), learning_rate='constant',\n",
       "       learning_rate_init=0.001, max_iter=200, momentum=0.9,\n",
       "       nesterovs_momentum=True, power_t=0.5, random_state=None,\n",
       "       shuffle=True, solver='sgd', tol=0.0001, validation_fraction=0.1,\n",
       "       verbose=False, warm_start=False)"
      ]
     },
     "execution_count": 119,
     "metadata": {},
     "output_type": "execute_result"
    }
   ],
   "source": [
    "clf.fit(x_train, y_train)"
   ]
  },
  {
   "cell_type": "code",
   "execution_count": 120,
   "metadata": {},
   "outputs": [],
   "source": [
    "y_pred = clf.predict(x_test)"
   ]
  },
  {
   "cell_type": "code",
   "execution_count": 121,
   "metadata": {},
   "outputs": [
    {
     "name": "stdout",
     "output_type": "stream",
     "text": [
      "misclassified samples: 24\n"
     ]
    }
   ],
   "source": [
    "print('misclassified samples: %d'%(y_test!=y_pred).sum())#compute"
   ]
  },
  {
   "cell_type": "code",
   "execution_count": 122,
   "metadata": {},
   "outputs": [
    {
     "name": "stdout",
     "output_type": "stream",
     "text": [
      "Accuracy:0.74\n"
     ]
    }
   ],
   "source": [
    "print('Accuracy:%.2f'%accuracy_score(y_test,y_pred))"
   ]
  },
  {
   "cell_type": "code",
   "execution_count": 123,
   "metadata": {},
   "outputs": [],
   "source": [
    "from sklearn.tree import DecisionTreeClassifier"
   ]
  },
  {
   "cell_type": "code",
   "execution_count": 125,
   "metadata": {},
   "outputs": [
    {
     "data": {
      "text/plain": [
       "DecisionTreeClassifier(class_weight=None, criterion='gini', max_depth=None,\n",
       "            max_features=None, max_leaf_nodes=3, min_impurity_decrease=0.0,\n",
       "            min_impurity_split=None, min_samples_leaf=1,\n",
       "            min_samples_split=2, min_weight_fraction_leaf=0.0,\n",
       "            presort=False, random_state=0, splitter='best')"
      ]
     },
     "execution_count": 125,
     "metadata": {},
     "output_type": "execute_result"
    }
   ],
   "source": [
    "estimator = DecisionTreeClassifier(max_leaf_nodes=3, random_state=0)\n",
    "estimator.fit(x_train, y_train)"
   ]
  },
  {
   "cell_type": "code",
   "execution_count": 126,
   "metadata": {},
   "outputs": [],
   "source": [
    "y_pred = estimator.predict(x_test)"
   ]
  },
  {
   "cell_type": "code",
   "execution_count": 127,
   "metadata": {},
   "outputs": [
    {
     "name": "stdout",
     "output_type": "stream",
     "text": [
      "misclassified samples: 25\n"
     ]
    }
   ],
   "source": [
    "print('misclassified samples: %d'%(y_test!=y_pred).sum())#compute"
   ]
  },
  {
   "cell_type": "code",
   "execution_count": 128,
   "metadata": {},
   "outputs": [
    {
     "name": "stdout",
     "output_type": "stream",
     "text": [
      "Accuracy:0.73\n"
     ]
    }
   ],
   "source": [
    "print('Accuracy:%.2f'%accuracy_score(y_test,y_pred))"
   ]
  },
  {
   "cell_type": "code",
   "execution_count": null,
   "metadata": {},
   "outputs": [],
   "source": []
  }
 ],
 "metadata": {
  "kernelspec": {
   "display_name": "Python 3",
   "language": "python",
   "name": "python3"
  },
  "language_info": {
   "codemirror_mode": {
    "name": "ipython",
    "version": 3
   },
   "file_extension": ".py",
   "mimetype": "text/x-python",
   "name": "python",
   "nbconvert_exporter": "python",
   "pygments_lexer": "ipython3",
   "version": "3.7.0"
  }
 },
 "nbformat": 4,
 "nbformat_minor": 2
}
